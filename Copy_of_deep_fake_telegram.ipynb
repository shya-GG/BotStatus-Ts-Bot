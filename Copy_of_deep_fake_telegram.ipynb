{
  "nbformat": 4,
  "nbformat_minor": 0,
  "metadata": {
    "accelerator": "GPU",
    "colab": {
      "name": "Copy of deep_fake_telegram.ipynb",
      "provenance": [],
      "collapsed_sections": [],
      "include_colab_link": true
    },
    "kernelspec": {
      "display_name": "Python 3",
      "name": "python3"
    }
  },
  "cells": [
    {
      "cell_type": "markdown",
      "metadata": {
        "id": "view-in-github",
        "colab_type": "text"
      },
      "source": [
        "<a href=\"https://colab.research.google.com/github/shya-GG/BotStatus-Ts-Bot/blob/shya-GG-patch-1/Copy_of_deep_fake_telegram.ipynb\" target=\"_parent\"><img src=\"https://colab.research.google.com/assets/colab-badge.svg\" alt=\"Open In Colab\"/></a>"
      ]
    },
    {
      "cell_type": "markdown",
      "metadata": {
        "id": "cdO_RxQZLahB"
      },
      "source": [
        "# Telegram deep fake bot\n",
        "\n",
        "[Github repo](https://github.com/albertoxamin/telegram-deep-fakes-bot)"
      ]
    },
    {
      "cell_type": "markdown",
      "metadata": {
        "id": "GCDNKsEGLtR6"
      },
      "source": [
        "**Clone deep-fake repository**"
      ]
    },
    {
      "cell_type": "code",
      "metadata": {
        "id": "UCMFMJV7K-ag"
      },
      "source": [
        "!pip install ffmpy &> /dev/null\n",
        "!git init -q .\n",
        "!git remote add origin https://github.com/AliaksandrSiarohin/first-order-model\n",
        "!git pull -q origin master\n",
        "!git clone -q https://github.com/graphemecluster/first-order-model-demo demo"
      ],
      "execution_count": 2,
      "outputs": []
    },
    {
      "cell_type": "markdown",
      "metadata": {
        "id": "IcMX7ueZO0Oa"
      },
      "source": [
        "**Mount your Google drive folder on Colab**"
      ]
    },
    {
      "cell_type": "code",
      "metadata": {
        "id": "tDbMA8R9OuUo",
        "colab": {
          "base_uri": "https://localhost:8080/"
        },
        "outputId": "5389e612-6356-4cf6-c3d9-e2244c07e8d0"
      },
      "source": [
        "\n",
        "from google.colab import drive\n",
        "drive.mount('/content/gdrive')"
      ],
      "execution_count": 3,
      "outputs": [
        {
          "output_type": "stream",
          "text": [
            "Mounted at /content/gdrive\n"
          ],
          "name": "stdout"
        }
      ]
    },
    {
      "cell_type": "markdown",
      "metadata": {
        "id": "VsgVK1EURXkd"
      },
      "source": [
        "**Add folder https://drive.google.com/drive/folders/1kZ1gCnpfU0BnpdU47pLM_TQ6RypDDqgw?usp=sharing  to your google drive.**"
      ]
    },
    {
      "cell_type": "markdown",
      "metadata": {
        "id": "rW-ipQXPOWUo"
      },
      "source": [
        "**Load the deep fake libraries**"
      ]
    },
    {
      "cell_type": "code",
      "metadata": {
        "id": "Oxi6-riLOgnm"
      },
      "source": [
        "import imageio\n",
        "import numpy as np\n",
        "import matplotlib.pyplot as plt\n",
        "import matplotlib.animation as animation\n",
        "from skimage.transform import resize\n",
        "from IPython.display import HTML\n",
        "import warnings\n",
        "warnings.filterwarnings(\"ignore\")\n",
        "from demo import load_checkpoints\n",
        "from demo import make_animation\n",
        "from skimage import img_as_ubyte\n",
        "cpu = False\n",
        "generator, kp_detector = load_checkpoints(config_path='config/vox-adv-256.yaml', \n",
        "                            checkpoint_path='/content/gdrive/My Drive/first-order-motion-model/vox-adv-cpk.pth.tar',cpu=cpu)"
      ],
      "execution_count": 4,
      "outputs": []
    },
    {
      "cell_type": "markdown",
      "metadata": {
        "id": "xjM7ubVfWrwT"
      },
      "source": [
        "**Install the telegram bot framework**"
      ]
    },
    {
      "cell_type": "code",
      "metadata": {
        "id": "wFGm3aa8Nnq4",
        "colab": {
          "base_uri": "https://localhost:8080/"
        },
        "outputId": "3eece81f-51bd-46e7-c1fb-a8f0bf4b5835"
      },
      "source": [
        "!pip install pyTelegramBotAPI"
      ],
      "execution_count": 5,
      "outputs": [
        {
          "output_type": "stream",
          "text": [
            "Collecting pyTelegramBotAPI\n",
            "\u001b[?25l  Downloading https://files.pythonhosted.org/packages/21/d4/440ef91bc6154cd72705b7a048a7e2d91ff6af3a379ed39fed9b6f1b214f/pyTelegramBotAPI-3.7.9.tar.gz (90kB)\n",
            "\r\u001b[K     |███▋                            | 10kB 26.3MB/s eta 0:00:01\r\u001b[K     |███████▏                        | 20kB 18.6MB/s eta 0:00:01\r\u001b[K     |██████████▉                     | 30kB 15.5MB/s eta 0:00:01\r\u001b[K     |██████████████▍                 | 40kB 14.7MB/s eta 0:00:01\r\u001b[K     |██████████████████              | 51kB 7.2MB/s eta 0:00:01\r\u001b[K     |█████████████████████▋          | 61kB 8.4MB/s eta 0:00:01\r\u001b[K     |█████████████████████████▏      | 71kB 8.8MB/s eta 0:00:01\r\u001b[K     |████████████████████████████▉   | 81kB 9.1MB/s eta 0:00:01\r\u001b[K     |████████████████████████████████| 92kB 5.9MB/s \n",
            "\u001b[?25hRequirement already satisfied: requests in /usr/local/lib/python3.7/dist-packages (from pyTelegramBotAPI) (2.23.0)\n",
            "Requirement already satisfied: idna<3,>=2.5 in /usr/local/lib/python3.7/dist-packages (from requests->pyTelegramBotAPI) (2.10)\n",
            "Requirement already satisfied: urllib3!=1.25.0,!=1.25.1,<1.26,>=1.21.1 in /usr/local/lib/python3.7/dist-packages (from requests->pyTelegramBotAPI) (1.24.3)\n",
            "Requirement already satisfied: chardet<4,>=3.0.2 in /usr/local/lib/python3.7/dist-packages (from requests->pyTelegramBotAPI) (3.0.4)\n",
            "Requirement already satisfied: certifi>=2017.4.17 in /usr/local/lib/python3.7/dist-packages (from requests->pyTelegramBotAPI) (2021.5.30)\n",
            "Building wheels for collected packages: pyTelegramBotAPI\n",
            "  Building wheel for pyTelegramBotAPI (setup.py) ... \u001b[?25l\u001b[?25hdone\n",
            "  Created wheel for pyTelegramBotAPI: filename=pyTelegramBotAPI-3.7.9-cp37-none-any.whl size=67913 sha256=b9459cea47a521337e4b15d8f0100850e0edae1e9a67111f9e71cb40c96102cf\n",
            "  Stored in directory: /root/.cache/pip/wheels/68/bb/cb/1af3be2487e0e183f3848e9d555acdf4df4628637fab5b9939\n",
            "Successfully built pyTelegramBotAPI\n",
            "Installing collected packages: pyTelegramBotAPI\n",
            "Successfully installed pyTelegramBotAPI-3.7.9\n"
          ],
          "name": "stdout"
        }
      ]
    },
    {
      "cell_type": "markdown",
      "metadata": {
        "id": "xMBUah6_p4q2"
      },
      "source": [
        "## Make it a telegram bot\n",
        "\n",
        "contact the [@BotFather](https://t.me/BotFather) on telegram and create a new bot with the command `/newbot` \n",
        "\n",
        "After you've given the bot a name and username you should receive a message that looks like this ![alt text](https://i.imgur.com/BT8hHEL.png)\n",
        "\n",
        "\n",
        "Now copy and the paste the token below in the `API_TOKEN`.\n",
        "\n",
        "Now you can run this cell and start chatting with the bot."
      ]
    },
    {
      "cell_type": "code",
      "metadata": {
        "id": "jMSzRMloD8Mr",
        "colab": {
          "base_uri": "https://localhost:8080/",
          "height": 367
        },
        "outputId": "e0e45a7b-d5a1-48dd-8734-1ea21b92c66d"
      },
      "source": [
        "import telebot\n",
        "import requests\n",
        "import shutil\n",
        "import subprocess\n",
        "import os.path\n",
        "\n",
        "API_TOKEN = '1608680837:AAFEAvSARM1qDdYW0ZOQxITLOZ9U3NJSPGk'\n",
        "bot = telebot.TeleBot(API_TOKEN)\n",
        "settings = {}\n",
        "enabled = []\n",
        "\n",
        "def isEnabled(id):\n",
        "  return id in enabled if len(enabled)>0 else True\n",
        "\n",
        "@bot.message_handler(commands=['start', 'help'])\n",
        "def send_welcome(message):\n",
        "  if isEnabled(message.chat.id):\n",
        "\t  bot.reply_to(message, \"Hi send me a photo (with square aspect ratio), you will then be able to use this face\\n\"\n",
        "    \"Switch output between video mode and video note mode with /output\\nSwitch relative position with /relative\\n\\nIssues with speed?\\nChange to dynamic mode with /speed\")\n",
        "\n",
        "def get(key,id_utente,default_value=False):\n",
        "  if not id_utente in settings:\n",
        "    settings[id_utente]={}\n",
        "  if not key in settings[id_utente]:\n",
        "    settings[id_utente][key]=default_value\n",
        "  return settings[id_utente][key]\n",
        "\n",
        "def set(key,value,id_utente):\n",
        "  get(key,id_utente) #init\n",
        "  settings[id_utente][key]=value\n",
        "\n",
        "#fix for wrong length speedup on OnePlus\n",
        "def get_length(filename):\n",
        "    result = subprocess.run([\"ffprobe\", \"-v\", \"error\", \"-show_entries\",\n",
        "                             \"format=duration\", \"-of\",\n",
        "                             \"default=noprint_wrappers=1:nokey=1\", filename],\n",
        "        stdout=subprocess.PIPE,\n",
        "        stderr=subprocess.STDOUT)\n",
        "    return float(result.stdout)\n",
        "\n",
        "@bot.message_handler(commands=['output'])\n",
        "def videomode(message):\n",
        "  if isEnabled(message.chat.id):\n",
        "    if get('mode',message.chat.id):\n",
        "      set('mode',False,message.chat.id)\n",
        "    else:\n",
        "      set('mode',True,message.chat.id)\n",
        "    bot.reply_to(message, \"I've changed mode correctly.\")\n",
        "\n",
        "@bot.message_handler(commands=['speed'])\n",
        "def speedmode(message):\n",
        "  if isEnabled(message.chat.id):\n",
        "    if get('dynamic_scale',message.chat.id):\n",
        "      set('dynamic_scale',False,message.chat.id)\n",
        "    else:\n",
        "      set('dynamic_scale',True,message.chat.id)\n",
        "    bot.reply_to(message, \"I've changed the speed adaptation correctly.\")\n",
        "\n",
        "@bot.message_handler(commands=['relative'])\n",
        "def relativemode(message):\n",
        "  if isEnabled(message.chat.id):\n",
        "    if get('relative',message.chat.id,default_value=True):\n",
        "      set('relative',False,message.chat.id)\n",
        "    else:\n",
        "      set('relative',True,message.chat.id)\n",
        "    bot.reply_to(message, f\"I've changed the relative mode to {get('relative',message.chat.id)} correctly.\")\n",
        "\n",
        "@bot.message_handler(content_types=['photo'])\n",
        "def download_pic(message):\n",
        "  if isEnabled(message.chat.id):\n",
        "    file_info = bot.get_file(message.photo[0].file_id)\n",
        "    file = requests.get('https://api.telegram.org/file/bot{0}/{1}'.format(API_TOKEN, file_info.file_path))\n",
        "    id = message.chat.id;\n",
        "    open(f'../src{id}.jpg', 'wb').write(file.content)\n",
        "    bot.reply_to(message, \"Perfect, now send me a video note or a video! (for best results keep head movements to a minimum and keep a static background)\")\n",
        "\n",
        "@bot.message_handler(content_types=['video_note','video'])\n",
        "def download_video(message):\n",
        "  if isEnabled(message.chat.id):\n",
        "    try:\n",
        "      id = message.chat.id;\n",
        "      file_info = bot.get_file(message.video_note.file_id if message.content_type == 'video_note' else message.video.file_id)\n",
        "      print('https://api.telegram.org/file/bot{0}/{1}'.format(API_TOKEN, file_info.file_path));\n",
        "      file = requests.get('https://api.telegram.org/file/bot{0}/{1}'.format(API_TOKEN, file_info.file_path))\n",
        "      open(f'../target{id}.mp4', 'wb').write(file.content)\n",
        "      #extract audio\n",
        "      subprocess.call(['ffmpeg', '-i', f'../target{id}.mp4', '-vn', '-acodec','copy', f'../out{id}.aac'])\n",
        "      if os.path.exists(f'../src{id}.jpg'):\n",
        "        bot.reply_to(message, \"I'm generating the deep fake...\")\n",
        "        bot.send_chat_action(id, 'record_video')\n",
        "        source_image = imageio.imread(f'../src{id}.jpg')\n",
        "        source_image = resize(source_image, (256, 256))[..., :3]\n",
        "      else:\n",
        "        bot.reply_to(message, \"You have to send me an image first!\")\n",
        "        return\n",
        "      try:\n",
        "        driving_video = imageio.mimread(f'../target{id}.mp4')\n",
        "      except Exception as e:\n",
        "        reader = imageio.get_reader(f'../target{id}.mp4')\n",
        "        driving_video = []\n",
        "        try:\n",
        "            for im in reader:\n",
        "                driving_video.append(im)\n",
        "        except RuntimeError:\n",
        "            pass\n",
        "      driving_video = [resize(frame, (256, 256))[..., :3] for frame in driving_video]\n",
        "      predictions = make_animation(source_image, driving_video, generator, kp_detector, relative=get('relative',message.chat.id,default_value=True),cpu=cpu)\n",
        "      imageio.mimsave(f'../generated{id}.mp4', [img_as_ubyte(frame) for frame in predictions])\n",
        "      #normal speed\n",
        "      if get('dynamic_scale',message.chat.id):\n",
        "        dynamic_scale=1/(get_length(f'../generated{id}.mp4')/get_length(f'../target{id}.mp4'))\n",
        "      else:\n",
        "        dynamic_scale=0.33334\n",
        "\n",
        "      subprocess.call(['ffmpeg', '-itsscale',f'{dynamic_scale}', '-i', f'../generated{id}.mp4', '-c','copy', f'../generated_fast{id}.mp4'])\n",
        "      print(get_length(f'../generated_fast{id}.mp4'))\n",
        "      #add audio\n",
        "      subprocess.call(['ffmpeg', '-i', f'../generated_fast{id}.mp4', '-i',f'../out{id}.aac', '-c', 'copy','-map','0:v:0','-map','1:a:0', f'../tosend{id}.mp4'])\n",
        "      videonote = open(f'../tosend{id}.mp4', 'rb')\n",
        "      if get('mode',message.chat.id):\n",
        "        bot.send_video(id, videonote)\n",
        "      else:\n",
        "        bot.send_video_note(id,videonote)\n",
        "    finally:\n",
        "      #cleanup\n",
        "      if os.path.exists(f'../target{id}.mp4'):\n",
        "        os.remove(f'../target{id}.mp4')\n",
        "      if os.path.exists(f'../generated{id}.mp4'):\n",
        "        os.remove(f'../generated{id}.mp4')\n",
        "      if os.path.exists(f'../generated_fast{id}.mp4'):\n",
        "        os.remove(f'../generated_fast{id}.mp4')\n",
        "      if os.path.exists(f'../tosend{id}.mp4'):\n",
        "        os.remove(f'../tosend{id}.mp4')\n",
        "      if os.path.exists(f'../out{id}.aac'):\n",
        "        os.remove(f'../out{id}.aac')\n",
        "      if os.path.exists(f'../src{id}.jpg'):\n",
        "        os.remove(f'../src{id}.jpg')\n",
        "\n",
        "bot.polling()"
      ],
      "execution_count": 1,
      "outputs": [
        {
          "output_type": "error",
          "ename": "ModuleNotFoundError",
          "evalue": "ignored",
          "traceback": [
            "\u001b[0;31m---------------------------------------------------------------------------\u001b[0m",
            "\u001b[0;31mModuleNotFoundError\u001b[0m                       Traceback (most recent call last)",
            "\u001b[0;32m<ipython-input-1-f8cf5a5b620c>\u001b[0m in \u001b[0;36m<module>\u001b[0;34m()\u001b[0m\n\u001b[0;32m----> 1\u001b[0;31m \u001b[0;32mimport\u001b[0m \u001b[0mtelebot\u001b[0m\u001b[0;34m\u001b[0m\u001b[0;34m\u001b[0m\u001b[0m\n\u001b[0m\u001b[1;32m      2\u001b[0m \u001b[0;32mimport\u001b[0m \u001b[0mrequests\u001b[0m\u001b[0;34m\u001b[0m\u001b[0;34m\u001b[0m\u001b[0m\n\u001b[1;32m      3\u001b[0m \u001b[0;32mimport\u001b[0m \u001b[0mshutil\u001b[0m\u001b[0;34m\u001b[0m\u001b[0;34m\u001b[0m\u001b[0m\n\u001b[1;32m      4\u001b[0m \u001b[0;32mimport\u001b[0m \u001b[0msubprocess\u001b[0m\u001b[0;34m\u001b[0m\u001b[0;34m\u001b[0m\u001b[0m\n\u001b[1;32m      5\u001b[0m \u001b[0;32mimport\u001b[0m \u001b[0mos\u001b[0m\u001b[0;34m.\u001b[0m\u001b[0mpath\u001b[0m\u001b[0;34m\u001b[0m\u001b[0;34m\u001b[0m\u001b[0m\n",
            "\u001b[0;31mModuleNotFoundError\u001b[0m: No module named 'telebot'",
            "",
            "\u001b[0;31m---------------------------------------------------------------------------\u001b[0;32m\nNOTE: If your import is failing due to a missing package, you can\nmanually install dependencies using either !pip or !apt.\n\nTo view examples of installing some common dependencies, click the\n\"Open Examples\" button below.\n\u001b[0;31m---------------------------------------------------------------------------\u001b[0m\n"
          ]
        }
      ]
    }
  ]
}